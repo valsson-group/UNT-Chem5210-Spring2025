{
  "cells": [
    {
      "cell_type": "markdown",
      "metadata": {
        "id": "view-in-github",
        "colab_type": "text"
      },
      "source": [
        "<a href=\"https://colab.research.google.com/github/valsson-group/UNT-Chem5210-Spring2025/blob/main/Python-JupyterNotebooks/TDDFT_ExcitedStates.ipynb\" target=\"_parent\"><img src=\"https://colab.research.google.com/assets/colab-badge.svg\" alt=\"Open In Colab\"/></a>"
      ]
    },
    {
      "cell_type": "markdown",
      "metadata": {
        "id": "e6uNCpGJZNWi"
      },
      "source": [
        "# Excited State from TD-DFT\n",
        "\n",
        "Simple Juypter notebook that performs TD-DFT (Time-dependent density-functional theory) using pyscf.\n",
        "\n",
        "Part of the code take from and inspired by https://www.andersle.no/posts/2022/mo/mo.html"
      ]
    },
    {
      "cell_type": "markdown",
      "metadata": {
        "id": "4joQFSzXZuuW"
      },
      "source": [
        "## Setup python environment and imports"
      ]
    },
    {
      "cell_type": "code",
      "execution_count": null,
      "metadata": {
        "id": "mnJj_M1D4POB"
      },
      "outputs": [],
      "source": [
        "%%capture\n",
        "!pip install numpy\n",
        "!pip install scipy\n",
        "!pip install Cython\n",
        "!pip install pandas\n",
        "!pip install sklearn\n",
        "!pip install statsmodels\n",
        "!pip install matplotlib\n",
        "!pip install rdkit\n",
        "!pip install py3Dmol\n",
        "!pip install ipywidgets\n",
        "!pip install sphinx\n",
        "!pip install nbsphinx\n",
        "!pip install pydata-sphinx-theme\n",
        "!pip install lxml\n",
        "!pip install fortecubeview\n",
        "!pip install pythreejs\n",
        "!pip install scikit-image\n",
        "!pip install pyscf\n",
        "!pip install shap\n",
        "!pip install catboost\n",
        "!pip install graphviz"
      ]
    },
    {
      "cell_type": "code",
      "execution_count": null,
      "metadata": {
        "id": "pboBu2_u4wvv"
      },
      "outputs": [],
      "source": [
        "import pathlib\n",
        "\n",
        "# RDKit imports:\n",
        "from rdkit import Chem\n",
        "from rdkit.Chem import (\n",
        "    AllChem,\n",
        "    rdCoordGen,\n",
        ")\n",
        "from rdkit.Chem.Draw import IPythonConsole\n",
        "\n",
        "IPythonConsole.ipython_useSVG = True  # Use higher quality images for molecules\n",
        "\n",
        "# For visualization of molecules and orbitals:\n",
        "import py3Dmol\n",
        "import fortecubeview\n",
        "\n",
        "# pyscf imports:\n",
        "from pyscf import gto, scf, dft, tddft, tools\n",
        "\n",
        "from pyscf.data.nist import HARTREE2EV\n",
        "from pyscf.data.nist import HARTREE2WAVENUMBER\n",
        "\n",
        "# For plotting\n",
        "import matplotlib\n",
        "from matplotlib import pyplot as plt\n",
        "\n",
        "%matplotlib inline\n",
        "\n",
        "# For numerics:\n",
        "import numpy as np\n",
        "\n",
        "from google.colab import output\n",
        "output.enable_custom_widget_manager()"
      ]
    },
    {
      "cell_type": "markdown",
      "source": [
        "## Function Definitions"
      ],
      "metadata": {
        "id": "6cs3y6AkUg5z"
      }
    },
    {
      "cell_type": "code",
      "execution_count": null,
      "metadata": {
        "id": "KCPJQwSJ6cwI"
      },
      "outputs": [],
      "source": [
        "def get_xyz(molecule, optimize=False):\n",
        "    \"\"\"Get xyz-coordinates for the molecule\"\"\"\n",
        "    mol = Chem.Mol(molecule)\n",
        "    mol = AllChem.AddHs(mol, addCoords=True)\n",
        "    AllChem.EmbedMolecule(mol)\n",
        "    if optimize:  # Optimize the molecules with the MM force field:\n",
        "        AllChem.MMFFOptimizeMolecule(mol)\n",
        "    xyz = []\n",
        "    for lines in Chem.MolToXYZBlock(mol).split(\"\\n\")[2:]:\n",
        "        strip = lines.strip()\n",
        "        if strip:\n",
        "            xyz.append(strip)\n",
        "    xyz = \"\\n\".join(xyz)\n",
        "    return mol, xyz"
      ]
    },
    {
      "cell_type": "code",
      "execution_count": null,
      "metadata": {
        "id": "T6nfWMhP7yvE"
      },
      "outputs": [],
      "source": [
        "def run_calculation_tddft(xyz, functional=\"b3lyp\", basis=\"sto-3g\", nstates=5,symmetry=False):\n",
        "    \"\"\"Calculate the energy (+ additional things like MO coefficients) with pyscf.\"\"\"\n",
        "    mol = gto.M(\n",
        "        atom=xyz,\n",
        "        basis=basis,\n",
        "        unit=\"ANG\",\n",
        "        symmetry=symmetry,\n",
        "    )\n",
        "    mol.build()\n",
        "    mf = dft.RKS(mol)\n",
        "    mf.xc = functional\n",
        "    mf.kernel()\n",
        "    td = tddft.TDDFT(mf)\n",
        "    td.nstates = nstates\n",
        "    td.kernel()\n",
        "    return mf, mol, td"
      ]
    },
    {
      "cell_type": "code",
      "execution_count": null,
      "metadata": {
        "id": "AAhFwgVwO1dy"
      },
      "outputs": [],
      "source": [
        "def write_cube_files(\n",
        "    max_homo_lumo=5, prefix=\"\", dirname=\".\", margin=5, write_all_orbitals=False\n",
        "):\n",
        "    \"\"\"Write cube files for the given coefficients.\"\"\"\n",
        "    path = pathlib.Path(dirname)\n",
        "    path.mkdir(parents=True, exist_ok=True)\n",
        "\n",
        "    # find index of HOMO and LUMO\n",
        "    lumo = float(\"inf\")\n",
        "    lumo_idx = None\n",
        "    homo = -float(\"inf\")\n",
        "    homo_idx = None\n",
        "    for i, (energy, occ) in enumerate(zip(mf.mo_energy, mf.mo_occ)):\n",
        "        if occ > 0 and energy > homo:\n",
        "            homo = energy\n",
        "            homo_idx = i\n",
        "        if occ == 0 and energy < lumo:\n",
        "            lumo = energy\n",
        "            lumo_idx = i\n",
        "\n",
        "    if(write_all_orbitals):\n",
        "      for i in range(mf.mo_coeff.shape[1]):\n",
        "        outfile = f\"{prefix}Orbital-{i:02d}.cube\"\n",
        "        outfile = path / outfile\n",
        "        print(f\"Writing {outfile}\")\n",
        "        tools.cubegen.orbital(mol, outfile, mf.mo_coeff[:, i], margin=margin)\n",
        "    else:\n",
        "      print(f\"HOMO (index): {homo_idx+1}\")\n",
        "      print(f\"LUMO (index): {lumo_idx+1}\")\n",
        "      print(\"\")\n",
        "      outfile = f\"{prefix}HOMO.cube\"\n",
        "      outfile = path / outfile\n",
        "      print(f\"Writing {outfile}\")\n",
        "      tools.cubegen.orbital(mol, outfile, mf.mo_coeff[:, homo_idx], margin=margin)\n",
        "\n",
        "      outfile = f\"{prefix}LUMO.cube\"\n",
        "      outfile = path / outfile\n",
        "      print(f\"Writing {outfile}\")\n",
        "      tools.cubegen.orbital(mol, outfile, mf.mo_coeff[:, lumo_idx], margin=margin)\n",
        "\n",
        "      for i in range(1,max_homo_lumo+1):\n",
        "        outfile = f\"{prefix}HOMO_minus-{i:02d}.cube\"\n",
        "        outfile = path / outfile\n",
        "        print(f\"Writing {outfile}\")\n",
        "        tools.cubegen.orbital(mol, outfile, mf.mo_coeff[:, homo_idx-i], margin=margin)\n",
        "\n",
        "        outfile = f\"{prefix}LUMO_plus-{i:02d}.cube\"\n",
        "        outfile = path / outfile\n",
        "        print(f\"Writing {outfile}\")\n",
        "        tools.cubegen.orbital(mol, outfile, mf.mo_coeff[:, lumo_idx+i], margin=margin)"
      ]
    },
    {
      "cell_type": "code",
      "source": [
        "def GaussianPeak(x,mean,sigma):\n",
        "  return np.exp(-(x-mean)**2/(2*sigma**2))\n",
        "\n",
        "def plot_spectrum_eV(exc,osc,width=0.2,x_range=None):\n",
        "  if x_range is None:\n",
        "    x_min = round(exc[0]-4*width)\n",
        "    x_max = round(exc[-1]+4*width+0.5)\n",
        "  else:\n",
        "    x_min = x_range[0]\n",
        "    x_max = x_range[1]\n",
        "  x=np.linspace(x_min,x_max,1000)\n",
        "  y=np.zeros(x.size)\n",
        "  for i, e in enumerate(exc):\n",
        "    if not np.isnan(osc[i]):\n",
        "      y+=osc[i]*GaussianPeak(x,e,width)\n",
        "\n",
        "  plt.plot(x,y)\n",
        "  plt.xlabel(\"Excitation [eV]\")\n",
        "  plt.ylabel(\"Intensity\")\n",
        "  plt.xlim([x_min,x_max])\n",
        "  for i, e in enumerate(exc):\n",
        "    if not np.isnan(osc[i]):\n",
        "      plt.stem(e,osc[i],linefmt=\"--\")\n",
        "  plt.show()\n",
        "\n",
        "def plot_spectrum_nm(exc,osc,width=10,x_range=None):\n",
        "  if x_range is None:\n",
        "    x_min = round(exc[-1]-4*width+0.5)\n",
        "    x_max = round(exc[0]+4*width)\n",
        "  else:\n",
        "    x_min = x_range[0]\n",
        "    x_max = x_range[1]\n",
        "  x=np.linspace(x_min,x_max,1000)\n",
        "  y=np.zeros(x.size)\n",
        "  for i, e in enumerate(exc):\n",
        "    if not np.isnan(osc[i]):\n",
        "      y+=osc[i]*GaussianPeak(x,e,width)\n",
        "\n",
        "  plt.plot(x,y)\n",
        "  plt.xlabel(\"Wavelength [nm]\")\n",
        "  plt.ylabel(\"Intensity\")\n",
        "  plt.xlim([x_min,x_max])\n",
        "  for i, e in enumerate(exc):\n",
        "    if not np.isnan(osc[i]):\n",
        "      plt.stem(e,osc[i],linefmt=\"--\")\n",
        "  plt.show()\n"
      ],
      "metadata": {
        "id": "nu86rM8gXSH5"
      },
      "execution_count": null,
      "outputs": []
    },
    {
      "cell_type": "markdown",
      "metadata": {
        "id": "bRJa_BnUZ_pD"
      },
      "source": [
        "## Definition of Molecule from SMILES String"
      ]
    },
    {
      "cell_type": "markdown",
      "metadata": {
        "id": "hWFvM4lXI8tw"
      },
      "source": [
        "**Here you should define the smiles string for the molecule you want to consider**\n",
        "\n",
        "\n"
      ]
    },
    {
      "cell_type": "code",
      "execution_count": null,
      "metadata": {
        "cellView": "form",
        "id": "ibf_Majp6L7r"
      },
      "outputs": [],
      "source": [
        "molecule_smiles = \"[O-][O+]=O\" #@param {type:\"string\"}\n",
        "\n",
        "molecule_name = \"Mol\"\n",
        "molecule = Chem.MolFromSmiles(molecule_smiles)  # Generate the molecule from smiles\n",
        "molecule"
      ]
    },
    {
      "cell_type": "markdown",
      "metadata": {
        "id": "bs-9sccybMxE"
      },
      "source": [
        "## Setup of Molecule"
      ]
    },
    {
      "cell_type": "code",
      "execution_count": null,
      "metadata": {
        "id": "YxQmT22s7T3W"
      },
      "outputs": [],
      "source": [
        "molecule3d, xyz = get_xyz(molecule, optimize=True)\n",
        "print(xyz)"
      ]
    },
    {
      "cell_type": "code",
      "source": [
        "view = py3Dmol.view(\n",
        "    data=Chem.MolToMolBlock(molecule3d),\n",
        "    style={\"stick\": {}, \"sphere\": {\"scale\": 0.3}},\n",
        "    width=300,\n",
        "    height=300,\n",
        "  )\n",
        "view.zoomTo()"
      ],
      "metadata": {
        "id": "mvzgOzsjVtqg"
      },
      "execution_count": null,
      "outputs": []
    },
    {
      "cell_type": "markdown",
      "metadata": {
        "id": "MF0mgAgnae_Z"
      },
      "source": [
        "## DFT and TD-DFT Calculations\n",
        "\n",
        "Here we perform the DFT and TD-DFT calculations. You will need to select the DFT functional and the basis set to be used from the calculation from the drop down lists. You can also select the number of excited states to be calculated for in the TD-DFT calculations, and if you wish to use symmetry in the calculations."
      ]
    },
    {
      "cell_type": "code",
      "execution_count": null,
      "metadata": {
        "id": "YyzgCnK08Psh"
      },
      "outputs": [],
      "source": [
        "DFT_Functional = \"BLYP\" #@param {type:\"string\"} [\"BLYP\", \"B3LYP\", \"PBE0\", \"wB97XD\"]\n",
        "BasisSet = \"6-31G(d)\" #@param {type:\"string\"} [\"sto-3g\", \"cc-pVDZ\",\"6-31G(d)\",\"def2-SVP\"]\n",
        "NumberOfStates = 10 # @param {type:\"integer\"}\n",
        "UseSymmetry = True # @param {type:\"boolean\"}\n",
        "\n",
        "print(\"Running DFT calculations\")\n",
        "print(\"- Functional: {:s}\".format(DFT_Functional))\n",
        "print(\"- Basis set: {:s}\".format(BasisSet))\n",
        "\n",
        "\n",
        "mf, mol, td = run_calculation_tddft(xyz, functional=DFT_Functional, basis=BasisSet ,nstates=NumberOfStates,symmetry=UseSymmetry)"
      ]
    },
    {
      "cell_type": "markdown",
      "metadata": {
        "id": "zWxMqqLIaqut"
      },
      "source": [
        "## Analysis of Results\n",
        "\n",
        "### DFT Results\n",
        "\n"
      ]
    },
    {
      "cell_type": "code",
      "execution_count": null,
      "metadata": {
        "id": "JkNqRjjy8Xe7"
      },
      "outputs": [],
      "source": [
        "mf.analyze(verbose=3)"
      ]
    },
    {
      "cell_type": "markdown",
      "source": [
        "### TD-DFT Results"
      ],
      "metadata": {
        "id": "LBh0rYsVQE3w"
      }
    },
    {
      "cell_type": "code",
      "source": [
        "td.analyze(verbose=4)"
      ],
      "metadata": {
        "id": "Xi-fWcmwNx3O"
      },
      "execution_count": null,
      "outputs": []
    },
    {
      "cell_type": "markdown",
      "source": [
        "## Plot Spectrum\n",
        "\n",
        "Here we plot the spectra by taking each excitation as a Gaussian peak with a finite width that represent broading effects. Each Gaussian peak is weighted with the oscillator strength."
      ],
      "metadata": {
        "id": "a1JyIt-fz_vY"
      }
    },
    {
      "cell_type": "code",
      "source": [
        "exc_eV=td.e*HARTREE2EV\n",
        "osc=td.oscillator_strength()\n",
        "exc_nm=1e7/(td.e*HARTREE2WAVENUMBER)\n",
        "\n",
        "# print(exc_eV)\n",
        "# print(exc_nm)\n",
        "\n",
        "# Peak width in eV\n",
        "peak_width_eV=0.2\n",
        "peak_width_nm=10\n",
        "\n",
        "plot_spectrum_eV(exc_eV,osc,width=peak_width_eV)\n",
        "plot_spectrum_nm(exc_nm,osc,width=peak_width_nm)\n"
      ],
      "metadata": {
        "id": "EKGPOKUYOt8f"
      },
      "execution_count": null,
      "outputs": []
    },
    {
      "cell_type": "markdown",
      "metadata": {
        "id": "szMc2aDna0jx"
      },
      "source": [
        "## Setup Orbitals"
      ]
    },
    {
      "cell_type": "code",
      "execution_count": null,
      "metadata": {
        "id": "jdF3wHkX96Dj"
      },
      "outputs": [],
      "source": [
        "!rm -rf cube_files\n",
        "write_cube_files(\n",
        "   dirname=\"cube_files\",\n",
        "   write_all_orbitals=False\n",
        ")"
      ]
    },
    {
      "cell_type": "markdown",
      "metadata": {
        "id": "7tP9Ws1UbClS"
      },
      "source": [
        "## Visualize Orbitals"
      ]
    },
    {
      "cell_type": "code",
      "execution_count": null,
      "metadata": {
        "id": "bBRCQw1Q_d9p"
      },
      "outputs": [],
      "source": [
        "fortecubeview.plot(path=\"./cube_files/\", width=600, height=300, colorscheme='national', sumlevel=0.7)"
      ]
    }
  ],
  "metadata": {
    "colab": {
      "provenance": [],
      "include_colab_link": true
    },
    "kernelspec": {
      "display_name": "Python 3 (ipykernel)",
      "language": "python",
      "name": "python3"
    },
    "language_info": {
      "codemirror_mode": {
        "name": "ipython",
        "version": 3
      },
      "file_extension": ".py",
      "mimetype": "text/x-python",
      "name": "python",
      "nbconvert_exporter": "python",
      "pygments_lexer": "ipython3",
      "version": "3.11.0"
    }
  },
  "nbformat": 4,
  "nbformat_minor": 0
}