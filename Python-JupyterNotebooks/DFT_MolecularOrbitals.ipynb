{
  "cells": [
    {
      "cell_type": "markdown",
      "metadata": {
        "id": "view-in-github",
        "colab_type": "text"
      },
      "source": [
        "<a href=\"https://colab.research.google.com/github/valsson-group/UNT-Chem3520/blob/main/Python/DFT_MolecularOrbitals.ipynb\" target=\"_parent\"><img src=\"https://colab.research.google.com/assets/colab-badge.svg\" alt=\"Open In Colab\"/></a>"
      ]
    },
    {
      "cell_type": "markdown",
      "metadata": {
        "id": "e6uNCpGJZNWi"
      },
      "source": [
        "# Density Functional Theory Calculations\n",
        "\n",
        "Simple Juypter notebook that performs Density Functional Theory (DFT) calculations using [pySCF](https://pyscf.org/index.html) running on Google Colab.\n",
        "\n",
        "A Jupyter notebook is way to run python code where you can run python code in cells. To run through the notebook, you will need to run it cell by cell.\n",
        "\n",
        "\n"
      ]
    },
    {
      "cell_type": "markdown",
      "metadata": {
        "id": "4joQFSzXZuuW"
      },
      "source": [
        "## Setup python environment, imports, and define functions\n",
        "\n",
        "Here we setup the python environment by installing the needed packages and importing the relevant python packages. We also define a few functions that we will use in our DFT calculations and analysis."
      ]
    },
    {
      "cell_type": "code",
      "execution_count": null,
      "metadata": {
        "id": "mnJj_M1D4POB"
      },
      "outputs": [],
      "source": [
        "%%capture\n",
        "!pip install numpy\n",
        "!pip install matplotlib\n",
        "!pip install rdkit\n",
        "!pip install py3Dmol\n",
        "!pip install ipywidgets\n",
        "!pip install fortecubeview\n",
        "!pip install pythreejs\n",
        "!pip install pyscf"
      ]
    },
    {
      "cell_type": "code",
      "execution_count": null,
      "metadata": {
        "id": "pboBu2_u4wvv"
      },
      "outputs": [],
      "source": [
        "import pathlib\n",
        "\n",
        "# RDKit imports:\n",
        "from rdkit import Chem\n",
        "from rdkit.Chem import AllChem, rdCoordGen\n",
        "from rdkit.Chem.Draw import IPythonConsole\n",
        "\n",
        "IPythonConsole.ipython_useSVG = True  # Use higher quality images for molecules\n",
        "\n",
        "# For visualization of molecules and orbitals:\n",
        "import py3Dmol\n",
        "import fortecubeview\n",
        "\n",
        "# pyscf imports:\n",
        "from pyscf import gto, scf, dft, tddft, tools\n",
        "\n",
        "from pyscf.data.nist import HARTREE2EV\n",
        "from pyscf.data.nist import HARTREE2WAVENUMBER\n",
        "\n",
        "# For plotting\n",
        "import matplotlib\n",
        "from matplotlib import pyplot as plt\n",
        "\n",
        "# For numerics:\n",
        "import numpy as np\n",
        "\n",
        "from google.colab import output\n",
        "output.enable_custom_widget_manager()"
      ]
    },
    {
      "cell_type": "code",
      "source": [
        "def get_xyz_coord(molecule, optimize=False):\n",
        "    \"\"\"Get xyz-coordinates for the molecule\"\"\"\n",
        "    mol = Chem.Mol(molecule)\n",
        "    mol = AllChem.AddHs(mol, addCoords=True)\n",
        "    AllChem.EmbedMolecule(mol)\n",
        "    if optimize:  # Optimize the molecules with the MM force field:\n",
        "        AllChem.MMFFOptimizeMolecule(mol)\n",
        "    xyz = []\n",
        "    for lines in Chem.MolToXYZBlock(mol).split(\"\\n\")[2:]:\n",
        "        strip = lines.strip()\n",
        "        if strip:\n",
        "            xyz.append(strip)\n",
        "    xyz = \"\\n\".join(xyz)\n",
        "    return mol, xyz\n",
        "\n",
        "def run_dft_calculations(xyz, functional=\"b3lyp\", basis=\"sto-3g\"):\n",
        "    \"\"\"Calculate the energy (+ additional things like MO coefficients) with pyscf.\"\"\"\n",
        "    mol = gto.M(\n",
        "        atom=xyz,\n",
        "        basis=basis,\n",
        "        unit=\"ANG\",\n",
        "        symmetry=True,\n",
        "    )\n",
        "    mol.build()\n",
        "    mf = dft.RKS(mol)\n",
        "    mf.xc = functional\n",
        "    mf.kernel()\n",
        "    return mf, mol\n",
        "\n",
        "def print_homo_lumo_energies(max_homo_lumo=5):\n",
        "\n",
        "    # find index of HOMO and LUMO\n",
        "    lumo = float(\"inf\")\n",
        "    lumo_idx = None\n",
        "    homo = -float(\"inf\")\n",
        "    homo_idx = None\n",
        "    for i, (energy, occ) in enumerate(zip(mf.mo_energy, mf.mo_occ)):\n",
        "        if occ > 0 and energy > homo:\n",
        "            homo = energy\n",
        "            homo_idx = i\n",
        "        if occ == 0 and energy < lumo:\n",
        "            lumo = energy\n",
        "            lumo_idx = i\n",
        "\n",
        "    # print(f\"HOMO (index): {homo_idx}\")\n",
        "    # print(f\"LUMO (index): {lumo_idx}\")\n",
        "    # print(\"\")\n",
        "    print(\"Molecular Orbitals Energy\")\n",
        "    for i in reversed(range(1,max_homo_lumo)):\n",
        "      print(\"- HOMO-{:1}  (MO #{:2d}):  {:7.4f} Hartree\".format(i,homo_idx+1-i,  mf.mo_energy[homo_idx-i]))\n",
        "    print(\"- HOMO    (MO #{:2d}):  {:7.4f} Hartree\".format(homo_idx+1,  mf.mo_energy[homo_idx]))\n",
        "    print(\"--------------------------------------\")\n",
        "    print(\"- LUMO    (MO #{:2d}):  {:7.4f} Hartree\".format(homo_idx+1+1,  mf.mo_energy[homo_idx+1]))\n",
        "    for i in range(1,max_homo_lumo):\n",
        "      print(\"- LUMO+{:1}  (MO #{:2d}):  {:7.4f} Hartree\".format(i,homo_idx+2+i,  mf.mo_energy[homo_idx+1+i]))\n",
        "\n",
        "def write_cube_files(\n",
        "    max_homo_lumo=5, prefix=\"\", dirname=\".\", margin=5, write_all_orbitals=False\n",
        "):\n",
        "    \"\"\"Write cube files for the given coefficients.\"\"\"\n",
        "    path = pathlib.Path(dirname)\n",
        "    path.mkdir(parents=True, exist_ok=True)\n",
        "\n",
        "    # find index of HOMO and LUMO\n",
        "    lumo = float(\"inf\")\n",
        "    lumo_idx = None\n",
        "    homo = -float(\"inf\")\n",
        "    homo_idx = None\n",
        "    for i, (energy, occ) in enumerate(zip(mf.mo_energy, mf.mo_occ)):\n",
        "        if occ > 0 and energy > homo:\n",
        "            homo = energy\n",
        "            homo_idx = i\n",
        "        if occ == 0 and energy < lumo:\n",
        "            lumo = energy\n",
        "            lumo_idx = i\n",
        "\n",
        "    #print(f\"HOMO (index): {homo_idx}\")\n",
        "    #print(f\"LUMO (index): {lumo_idx}\")\n",
        "    #print(\"\")\n",
        "\n",
        "\n",
        "    if(write_all_orbitals):\n",
        "      for i in range(mf.mo_coeff.shape[1]):\n",
        "        outfile = f\"{prefix}Orbital-{i:02d}.cube\"\n",
        "        outfile = path / outfile\n",
        "        print(f\"Writing {outfile}\")\n",
        "        tools.cubegen.orbital(mol, outfile, mf.mo_coeff[:, i], margin=margin)\n",
        "    else:\n",
        "      print(\"\")\n",
        "      outfile = f\"{prefix}HOMO.cube\"\n",
        "      outfile = path / outfile\n",
        "      print(f\"Writing {outfile}\")\n",
        "      tools.cubegen.orbital(mol, outfile, mf.mo_coeff[:, homo_idx], margin=margin)\n",
        "\n",
        "      outfile = f\"{prefix}LUMO.cube\"\n",
        "      outfile = path / outfile\n",
        "      print(f\"Writing {outfile}\")\n",
        "      tools.cubegen.orbital(mol, outfile, mf.mo_coeff[:, lumo_idx], margin=margin)\n",
        "\n",
        "      for i in range(1,max_homo_lumo+1):\n",
        "        outfile = f\"{prefix}HOMO_minus-{i:02d}.cube\"\n",
        "        outfile = path / outfile\n",
        "        print(f\"Writing {outfile}\")\n",
        "        tools.cubegen.orbital(mol, outfile, mf.mo_coeff[:, homo_idx-i], margin=margin)\n",
        "\n",
        "        outfile = f\"{prefix}LUMO_plus-{i:02d}.cube\"\n",
        "        outfile = path / outfile\n",
        "        print(f\"Writing {outfile}\")\n",
        "        tools.cubegen.orbital(mol, outfile, mf.mo_coeff[:, lumo_idx+i], margin=margin)\n"
      ],
      "metadata": {
        "id": "x4-P5SfI7JjJ"
      },
      "execution_count": null,
      "outputs": []
    },
    {
      "cell_type": "markdown",
      "metadata": {
        "id": "bRJa_BnUZ_pD"
      },
      "source": [
        "## Definition of Molecule from SMILES String"
      ]
    },
    {
      "cell_type": "markdown",
      "metadata": {
        "id": "hWFvM4lXI8tw"
      },
      "source": [
        "**Here you should define the smiles string for the molecule you want to consider**\n",
        "\n",
        "\n"
      ]
    },
    {
      "cell_type": "code",
      "execution_count": null,
      "metadata": {
        "cellView": "form",
        "id": "ibf_Majp6L7r"
      },
      "outputs": [],
      "source": [
        "molecule_smiles = \"CC(=O)C=C\" #@param {type:\"string\"}\n",
        "\n",
        "molecule_name = \"Mol\"\n",
        "molecule = Chem.MolFromSmiles(molecule_smiles)  # Generate the molecule from smiles\n",
        "molecule"
      ]
    },
    {
      "cell_type": "markdown",
      "metadata": {
        "id": "bs-9sccybMxE"
      },
      "source": [
        "## Setup of Molecule"
      ]
    },
    {
      "cell_type": "code",
      "execution_count": null,
      "metadata": {
        "id": "YxQmT22s7T3W"
      },
      "outputs": [],
      "source": [
        "molecule3d, xyz = get_xyz_coord(molecule, optimize=True)\n",
        "print(\"XYZ Coordinates obtained from SMILES string {:s}\".format(molecule_smiles))\n",
        "print(\"\")\n",
        "print(\"---------------------------------------\")\n",
        "print(xyz)\n",
        "print(\"---------------------------------------\")"
      ]
    },
    {
      "cell_type": "code",
      "execution_count": null,
      "metadata": {
        "id": "8YhzA2Js7at_"
      },
      "outputs": [],
      "source": [
        "view = py3Dmol.view(\n",
        "    data=Chem.MolToMolBlock(molecule3d),\n",
        "    style={\"stick\": {}, \"sphere\": {\"scale\": 0.3}},\n",
        "    width=600,\n",
        "    height=600,\n",
        ")\n",
        "view.zoomTo()"
      ]
    },
    {
      "cell_type": "markdown",
      "metadata": {
        "id": "MF0mgAgnae_Z"
      },
      "source": [
        "## DFT Calculations\n",
        "\n",
        "Here we perform the DFT calculations. You will need to select the DFT functional and the basis set to be used from the calculation from the drop down lists."
      ]
    },
    {
      "cell_type": "code",
      "source": [
        "DFT_Functional = \"B3LYP\" #@param {type:\"string\"} [\"B3LYP\",\"PBE0\", \"CAM-B3LYP\", \"wB97XD\"]\n",
        "BasisSet = \"cc-pVTZ\" #@param {type:\"string\"} [\"sto-3g\", \"cc-pVDZ\",\"cc-pVTZ\"]\n",
        "\n",
        "print(\"Running DFT calculations\")\n",
        "print(\"- Functional: {:s}\".format(DFT_Functional))\n",
        "print(\"- Basis set: {:s}\".format(BasisSet))\n",
        "\n",
        "mf, mol = run_dft_calculations(xyz, functional=DFT_Functional, basis=BasisSet)\n"
      ],
      "metadata": {
        "id": "c3C8PjnL8rHa",
        "cellView": "form"
      },
      "execution_count": null,
      "outputs": []
    },
    {
      "cell_type": "markdown",
      "metadata": {
        "id": "zWxMqqLIaqut"
      },
      "source": [
        "## Analysis of Results"
      ]
    },
    {
      "cell_type": "code",
      "execution_count": null,
      "metadata": {
        "id": "JkNqRjjy8Xe7"
      },
      "outputs": [],
      "source": [
        "mf.analyze(verbose=4)"
      ]
    },
    {
      "cell_type": "code",
      "source": [
        "print_homo_lumo_energies()"
      ],
      "metadata": {
        "id": "vR9uq4cbdZhR"
      },
      "execution_count": null,
      "outputs": []
    },
    {
      "cell_type": "markdown",
      "metadata": {
        "id": "szMc2aDna0jx"
      },
      "source": [
        "## Calculate and Visualize Orbitals\n",
        "\n",
        "Here you calculate and visualize the orbitals.\n",
        "\n",
        "In the cell for visualizng the orbitals, there might be some error message, but you can ignore them."
      ]
    },
    {
      "cell_type": "code",
      "execution_count": null,
      "metadata": {
        "id": "jdF3wHkX96Dj"
      },
      "outputs": [],
      "source": [
        "!rm -rf cube_files\n",
        "write_cube_files(\n",
        "   dirname=\"cube_files\",\n",
        "   write_all_orbitals=False\n",
        ")"
      ]
    },
    {
      "cell_type": "code",
      "execution_count": null,
      "metadata": {
        "id": "bBRCQw1Q_d9p"
      },
      "outputs": [],
      "source": [
        "fortecubeview.plot(path=\"./cube_files/\", width=600, height=300, colorscheme='national')"
      ]
    }
  ],
  "metadata": {
    "colab": {
      "provenance": [],
      "include_colab_link": true
    },
    "kernelspec": {
      "display_name": "Python 3 (ipykernel)",
      "language": "python",
      "name": "python3"
    },
    "language_info": {
      "codemirror_mode": {
        "name": "ipython",
        "version": 3
      },
      "file_extension": ".py",
      "mimetype": "text/x-python",
      "name": "python",
      "nbconvert_exporter": "python",
      "pygments_lexer": "ipython3",
      "version": "3.11.0"
    }
  },
  "nbformat": 4,
  "nbformat_minor": 0
}